{
 "cells": [
  {
   "cell_type": "code",
   "execution_count": 1,
   "id": "3363b59f-8167-48b6-b9b5-62c041082e76",
   "metadata": {},
   "outputs": [],
   "source": [
    "import os\n",
    "os.environ[\"NUMBA_LOOP_VECTORIZE\"] = \"1\"\n",
    "from numba import njit\n",
    "import numpy as np\n",
    "#from llvmlite import binding as llvm\n",
    "#llvm.set_option(\"\", \"--debug-only=loop-vectorize\")\n",
    "DATA = np.linspace(1, 1_000_000, 1_000_000, dtype=np.uint32)"
   ]
  },
  {
   "cell_type": "code",
   "execution_count": 2,
   "id": "c5560ee4-ea08-4127-b22f-331d8d35b07f",
   "metadata": {},
   "outputs": [
    {
     "data": {
      "text/plain": [
       "(500000, 500000)"
      ]
     },
     "execution_count": 2,
     "metadata": {},
     "output_type": "execute_result"
    }
   ],
   "source": [
    "@njit\n",
    "def num_even_and_odd(arr):\n",
    "    num_odd = 0\n",
    "    for i in range(len(arr)):\n",
    "        if arr[i] & 1:\n",
    "            num_odd += 1\n",
    "    return len(arr) - num_odd, num_odd\n",
    "\n",
    "num_even_and_odd(DATA)"
   ]
  },
  {
   "cell_type": "code",
   "execution_count": 3,
   "id": "f923f598-52a9-4e5a-bcbd-c8c86935acbc",
   "metadata": {},
   "outputs": [
    {
     "name": "stdout",
     "output_type": "stream",
     "text": [
      "73.2 µs ± 181 ns per loop (mean ± std. dev. of 7 runs, 10,000 loops each)\n"
     ]
    }
   ],
   "source": [
    "%timeit num_even_and_odd(DATA)"
   ]
  },
  {
   "cell_type": "code",
   "execution_count": 4,
   "id": "8216c3b9-4cbe-439a-aaeb-2c82e3e9ad3e",
   "metadata": {},
   "outputs": [
    {
     "data": {
      "text/plain": [
       "(500000, 500000)"
      ]
     },
     "execution_count": 4,
     "metadata": {},
     "output_type": "execute_result"
    }
   ],
   "source": [
    "@njit\n",
    "def num_even_and_odd_2(arr):\n",
    "    num_odd = 0\n",
    "    for i in range(len(arr)):\n",
    "        num_odd += arr[i] & 1\n",
    "    return len(arr) - num_odd, num_odd\n",
    "\n",
    "num_even_and_odd_2(DATA)"
   ]
  },
  {
   "cell_type": "code",
   "execution_count": 5,
   "id": "89ecb63a-a620-4003-b214-50d53cc325ad",
   "metadata": {},
   "outputs": [
    {
     "name": "stdout",
     "output_type": "stream",
     "text": [
      "73 µs ± 118 ns per loop (mean ± std. dev. of 7 runs, 10,000 loops each)\n"
     ]
    }
   ],
   "source": [
    "%timeit num_even_and_odd_2(DATA)"
   ]
  },
  {
   "cell_type": "code",
   "execution_count": 6,
   "id": "bae57b34-10f5-4274-93ed-331255bd5fc3",
   "metadata": {},
   "outputs": [
    {
     "data": {
      "text/plain": [
       "array([500000, 500000], dtype=uint64)"
      ]
     },
     "execution_count": 6,
     "metadata": {},
     "output_type": "execute_result"
    }
   ],
   "source": [
    "@njit\n",
    "def num_even_and_odd_3(arr):\n",
    "    result = np.zeros((2,), dtype=np.uint64)\n",
    "    for i in range(len(arr)):\n",
    "        result[1] += arr[i] & 1\n",
    "    result[0] = len(arr) - result[1]\n",
    "    return result\n",
    "\n",
    "num_even_and_odd_3(DATA)"
   ]
  },
  {
   "cell_type": "code",
   "execution_count": 7,
   "id": "65d0743f-03d1-4a16-9416-28bb2cb282c2",
   "metadata": {},
   "outputs": [
    {
     "name": "stdout",
     "output_type": "stream",
     "text": [
      "283 µs ± 76 ns per loop (mean ± std. dev. of 7 runs, 1,000 loops each)\n"
     ]
    }
   ],
   "source": [
    "%timeit num_even_and_odd_3(DATA)"
   ]
  },
  {
   "cell_type": "code",
   "execution_count": 8,
   "id": "6b5697ce-784d-4b07-af7c-0250be6bef0e",
   "metadata": {},
   "outputs": [
    {
     "data": {
      "text/plain": [
       "array([      0, 1000000], dtype=uint64)"
      ]
     },
     "execution_count": 8,
     "metadata": {},
     "output_type": "execute_result"
    }
   ],
   "source": [
    "@njit\n",
    "def num_even_and_odd_4(arr):\n",
    "    odds = np.zeros((4,), dtype=np.uint64)\n",
    "    for i in range(len(arr) // 4):\n",
    "        odds[0] += arr[i * 4] & 1\n",
    "        odds[1] += arr[i * 4 + 1] & 1\n",
    "        odds[2] += arr[i * 4 + 2] & 1\n",
    "        odds[3] += arr[i * 4 + 3] & 1\n",
    "        \n",
    "    result = np.zeros((2,), dtype=np.uint64)\n",
    "    for o in arr[-(len(arr) % 4):]:\n",
    "        result[1] += o & 1\n",
    "    for o in odds:\n",
    "        result[1] += o\n",
    "    result[0] = len(arr) - result[1]\n",
    "    return result\n",
    "\n",
    "num_even_and_odd_4(DATA)"
   ]
  }
 ],
 "metadata": {
  "kernelspec": {
   "display_name": "Python 3 (ipykernel)",
   "language": "python",
   "name": "python3"
  },
  "language_info": {
   "codemirror_mode": {
    "name": "ipython",
    "version": 3
   },
   "file_extension": ".py",
   "mimetype": "text/x-python",
   "name": "python",
   "nbconvert_exporter": "python",
   "pygments_lexer": "ipython3",
   "version": "3.10.12"
  }
 },
 "nbformat": 4,
 "nbformat_minor": 5
}
