{
 "cells": [
  {
   "cell_type": "code",
   "execution_count": 1,
   "id": "ffca7e2e-096c-4084-a736-ff9b59dd211a",
   "metadata": {},
   "outputs": [],
   "source": [
    "import numpy as np\n",
    "from numba import njit"
   ]
  },
  {
   "cell_type": "code",
   "execution_count": 24,
   "id": "376a7c22-c5c9-4fb3-bafa-d511b7a0652a",
   "metadata": {},
   "outputs": [
    {
     "name": "stdout",
     "output_type": "stream",
     "text": [
      "(2000,) (8,)\n",
      "(2000,) (16000,)\n"
     ]
    }
   ],
   "source": [
    "arr = np.ones((2000, 2000))\n",
    "print(arr[0].shape, arr[0].strides)\n",
    "print(arr[:,0].shape, arr[:,0].strides)"
   ]
  },
  {
   "cell_type": "code",
   "execution_count": 25,
   "id": "a5cfc103-86b6-4d63-af09-2b05fd3241a3",
   "metadata": {},
   "outputs": [
    {
     "name": "stdout",
     "output_type": "stream",
     "text": [
      "[(Array(float64, 2, 'C', False, aligned=True),)]\n",
      "[(Array(float64, 2, 'C', False, aligned=True),), (Array(float64, 2, 'A', False, aligned=True),)]\n",
      "11.5 µs ± 0.891 ns per loop (mean ± std. dev. of 7 runs, 100,000 loops each)\n",
      "17.2 µs ± 156 ns per loop (mean ± std. dev. of 7 runs, 100,000 loops each)\n"
     ]
    }
   ],
   "source": [
    "@njit\n",
    "def sum(arr):\n",
    "    total = 0.0\n",
    "    for value in arr.ravel():\n",
    "        total += value\n",
    "    return total\n",
    "\n",
    "sum(arr[0:5,:])\n",
    "print(sum.signatures)\n",
    "sum(arr[:,0:5])\n",
    "print(sum.signatures)\n",
    "%timeit sum(arr[0:10,:])\n",
    "%timeit sum(arr[:,0:10])"
   ]
  },
  {
   "cell_type": "code",
   "execution_count": 26,
   "id": "6e4fddcc-59ad-45ff-b484-34ad9ce2dce8",
   "metadata": {},
   "outputs": [
    {
     "name": "stdout",
     "output_type": "stream",
     "text": [
      "23.2 µs ± 13.6 ns per loop (mean ± std. dev. of 7 runs, 10,000 loops each)\n"
     ]
    }
   ],
   "source": [
    "%timeit sum(arr[:,0:10].copy())"
   ]
  }
 ],
 "metadata": {
  "kernelspec": {
   "display_name": "Python 3 (ipykernel)",
   "language": "python",
   "name": "python3"
  },
  "language_info": {
   "codemirror_mode": {
    "name": "ipython",
    "version": 3
   },
   "file_extension": ".py",
   "mimetype": "text/x-python",
   "name": "python",
   "nbconvert_exporter": "python",
   "pygments_lexer": "ipython3",
   "version": "3.10.12"
  }
 },
 "nbformat": 4,
 "nbformat_minor": 5
}
