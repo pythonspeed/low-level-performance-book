{
 "cells": [
  {
   "cell_type": "code",
   "execution_count": 1,
   "id": "a9769315-fb8d-48dc-9284-045747dbd150",
   "metadata": {},
   "outputs": [],
   "source": [
    "import numpy as np\n",
    "from numba import njit\n",
    "from contextlib import contextmanager\n",
    "\n",
    "@contextmanager\n",
    "def disable_simd():\n",
    "    import sys\n",
    "    import os\n",
    "    \n",
    "    def clear_numba():\n",
    "        for mod in list(sys.modules):\n",
    "            if mod.startswith(\"numba\") or mod.startswith(\"llvmlite\"):\n",
    "                del sys.modules[mod]\n",
    "\n",
    "    clear_numba()\n",
    "    os.environ[\"NUMBA_LOOP_VECTORIZE\"] = \"0\"\n",
    "    try:\n",
    "        from numba import njit\n",
    "        yield njit\n",
    "    finally:\n",
    "        os.environ[\"NUMBA_LOOP_VECTORIZE\"] = \"1\"\n",
    "        clear_numba()"
   ]
  },
  {
   "cell_type": "code",
   "execution_count": 2,
   "id": "6d29cb73-a9ef-418b-9f9a-5f214897db95",
   "metadata": {},
   "outputs": [
    {
     "data": {
      "text/plain": [
       "array([2, 2, 2, ..., 2, 2, 2], dtype=uint16)"
      ]
     },
     "execution_count": 2,
     "metadata": {},
     "output_type": "execute_result"
    }
   ],
   "source": [
    "@njit\n",
    "def sum(x, y):\n",
    "    out = np.empty(x.shape, dtype=x.dtype)\n",
    "    for i in range(len(x)):\n",
    "        out[i] = x[i] + y[i]\n",
    "    return out\n",
    "\n",
    "DATA_UINT64 = np.ones((1_000_000,), dtype=np.uint64)\n",
    "DATA_UINT16 = np.ones((1_000_000,), dtype=np.uint16)\n",
    "sum(DATA_UINT64, DATA_UINT64)\n",
    "sum(DATA_UINT16, DATA_UINT16) "
   ]
  },
  {
   "cell_type": "code",
   "execution_count": 3,
   "id": "eee46058-8a7c-4651-a8ea-3f1d89d3d71f",
   "metadata": {},
   "outputs": [
    {
     "name": "stdout",
     "output_type": "stream",
     "text": [
      "346 µs ± 1.85 µs per loop (mean ± std. dev. of 7 runs, 1,000 loops each)\n",
      "85 µs ± 318 ns per loop (mean ± std. dev. of 7 runs, 10,000 loops each)\n"
     ]
    }
   ],
   "source": [
    "%timeit sum(DATA_UINT64, DATA_UINT64)\n",
    "%timeit sum(DATA_UINT16, DATA_UINT16)"
   ]
  },
  {
   "cell_type": "code",
   "execution_count": 4,
   "id": "166edafa-0844-4473-b84f-3cfb7b8a1e4c",
   "metadata": {},
   "outputs": [],
   "source": [
    "with disable_simd() as njit_no_simd:\n",
    "    @njit_no_simd\n",
    "    def sum_no_simd(x, y):\n",
    "        out = np.empty(x.shape, dtype=x.dtype)\n",
    "        for i in range(len(x)):\n",
    "            out[i] = x[i] + y[i]\n",
    "        return out\n",
    "\n",
    "    sum_no_simd(DATA_UINT64, DATA_UINT64)\n",
    "    sum_no_simd(DATA_UINT16, DATA_UINT16)"
   ]
  },
  {
   "cell_type": "code",
   "execution_count": 5,
   "id": "673b7b1f-b5fb-4dd6-bb85-78ae6b2631fc",
   "metadata": {},
   "outputs": [
    {
     "name": "stdout",
     "output_type": "stream",
     "text": [
      "373 µs ± 1.51 µs per loop (mean ± std. dev. of 7 runs, 1,000 loops each)\n",
      "226 µs ± 143 ns per loop (mean ± std. dev. of 7 runs, 1,000 loops each)\n"
     ]
    }
   ],
   "source": [
    "%timeit sum_no_simd(DATA_UINT64, DATA_UINT64)\n",
    "%timeit sum_no_simd(DATA_UINT16, DATA_UINT16)"
   ]
  }
 ],
 "metadata": {
  "kernelspec": {
   "display_name": "Python 3 (ipykernel)",
   "language": "python",
   "name": "python3"
  },
  "language_info": {
   "codemirror_mode": {
    "name": "ipython",
    "version": 3
   },
   "file_extension": ".py",
   "mimetype": "text/x-python",
   "name": "python",
   "nbconvert_exporter": "python",
   "pygments_lexer": "ipython3",
   "version": "3.10.12"
  }
 },
 "nbformat": 4,
 "nbformat_minor": 5
}
